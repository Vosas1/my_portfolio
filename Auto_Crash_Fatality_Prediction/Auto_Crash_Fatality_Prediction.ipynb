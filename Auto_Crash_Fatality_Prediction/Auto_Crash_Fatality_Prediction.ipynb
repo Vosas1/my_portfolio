{
  "nbformat": 4,
  "nbformat_minor": 0,
  "metadata": {
    "colab": {
      "provenance": []
    },
    "kernelspec": {
      "name": "python3",
      "display_name": "Python 3"
    },
    "language_info": {
      "name": "python"
    }
  },
  "cells": [
    {
      "cell_type": "code",
      "execution_count": 1,
      "metadata": {
        "id": "NIAe_pL3dteb",
        "collapsed": true,
        "outputId": "deedabb7-e95b-4585-a37e-9ccaed6d89b1",
        "colab": {
          "base_uri": "https://localhost:8080/"
        }
      },
      "outputs": [
        {
          "output_type": "stream",
          "name": "stdout",
          "text": [
            "Requirement already satisfied: pandas in /usr/local/lib/python3.11/dist-packages (2.2.2)\n",
            "Requirement already satisfied: numpy in /usr/local/lib/python3.11/dist-packages (2.0.2)\n",
            "Requirement already satisfied: scikit-learn in /usr/local/lib/python3.11/dist-packages (1.6.1)\n",
            "Requirement already satisfied: matplotlib in /usr/local/lib/python3.11/dist-packages (3.10.0)\n",
            "Requirement already satisfied: seaborn in /usr/local/lib/python3.11/dist-packages (0.13.2)\n",
            "Requirement already satisfied: python-dateutil>=2.8.2 in /usr/local/lib/python3.11/dist-packages (from pandas) (2.8.2)\n",
            "Requirement already satisfied: pytz>=2020.1 in /usr/local/lib/python3.11/dist-packages (from pandas) (2025.1)\n",
            "Requirement already satisfied: tzdata>=2022.7 in /usr/local/lib/python3.11/dist-packages (from pandas) (2025.1)\n",
            "Requirement already satisfied: scipy>=1.6.0 in /usr/local/lib/python3.11/dist-packages (from scikit-learn) (1.14.1)\n",
            "Requirement already satisfied: joblib>=1.2.0 in /usr/local/lib/python3.11/dist-packages (from scikit-learn) (1.4.2)\n",
            "Requirement already satisfied: threadpoolctl>=3.1.0 in /usr/local/lib/python3.11/dist-packages (from scikit-learn) (3.6.0)\n",
            "Requirement already satisfied: contourpy>=1.0.1 in /usr/local/lib/python3.11/dist-packages (from matplotlib) (1.3.1)\n",
            "Requirement already satisfied: cycler>=0.10 in /usr/local/lib/python3.11/dist-packages (from matplotlib) (0.12.1)\n",
            "Requirement already satisfied: fonttools>=4.22.0 in /usr/local/lib/python3.11/dist-packages (from matplotlib) (4.56.0)\n",
            "Requirement already satisfied: kiwisolver>=1.3.1 in /usr/local/lib/python3.11/dist-packages (from matplotlib) (1.4.8)\n",
            "Requirement already satisfied: packaging>=20.0 in /usr/local/lib/python3.11/dist-packages (from matplotlib) (24.2)\n",
            "Requirement already satisfied: pillow>=8 in /usr/local/lib/python3.11/dist-packages (from matplotlib) (11.1.0)\n",
            "Requirement already satisfied: pyparsing>=2.3.1 in /usr/local/lib/python3.11/dist-packages (from matplotlib) (3.2.1)\n",
            "Requirement already satisfied: six>=1.5 in /usr/local/lib/python3.11/dist-packages (from python-dateutil>=2.8.2->pandas) (1.17.0)\n"
          ]
        }
      ],
      "source": [
        "# Install necessary libraries\n",
        "!pip install pandas numpy scikit-learn matplotlib seaborn\n",
        "\n",
        "# Import libraries\n",
        "import pandas as pd\n",
        "import numpy as np\n",
        "import matplotlib.pyplot as plt\n",
        "import seaborn as sns"
      ]
    },
    {
      "cell_type": "code",
      "source": [
        "from google.colab import files\n",
        "import pandas as pd\n",
        "\n",
        "# Upload the dataset manually\n",
        "uploaded = files.upload()\n",
        "\n",
        "# Get the file name dynamically\n",
        "filename = list(uploaded.keys())[0]\n",
        "\n",
        "# Load the dataset into a DataFrame\n",
        "df = pd.read_csv(filename)\n",
        "\n",
        "# Display the first few rows\n",
        "df.head()"
      ],
      "metadata": {
        "collapsed": true,
        "id": "RYaD5zPIoELq",
        "outputId": "e16cf07d-8085-4088-f146-3738ef3f8a0c",
        "colab": {
          "base_uri": "https://localhost:8080/",
          "height": 503
        }
      },
      "execution_count": 2,
      "outputs": [
        {
          "output_type": "display_data",
          "data": {
            "text/plain": [
              "<IPython.core.display.HTML object>"
            ],
            "text/html": [
              "\n",
              "     <input type=\"file\" id=\"files-3e289668-0171-455d-a567-468412265f85\" name=\"files[]\" multiple disabled\n",
              "        style=\"border:none\" />\n",
              "     <output id=\"result-3e289668-0171-455d-a567-468412265f85\">\n",
              "      Upload widget is only available when the cell has been executed in the\n",
              "      current browser session. Please rerun this cell to enable.\n",
              "      </output>\n",
              "      <script>// Copyright 2017 Google LLC\n",
              "//\n",
              "// Licensed under the Apache License, Version 2.0 (the \"License\");\n",
              "// you may not use this file except in compliance with the License.\n",
              "// You may obtain a copy of the License at\n",
              "//\n",
              "//      http://www.apache.org/licenses/LICENSE-2.0\n",
              "//\n",
              "// Unless required by applicable law or agreed to in writing, software\n",
              "// distributed under the License is distributed on an \"AS IS\" BASIS,\n",
              "// WITHOUT WARRANTIES OR CONDITIONS OF ANY KIND, either express or implied.\n",
              "// See the License for the specific language governing permissions and\n",
              "// limitations under the License.\n",
              "\n",
              "/**\n",
              " * @fileoverview Helpers for google.colab Python module.\n",
              " */\n",
              "(function(scope) {\n",
              "function span(text, styleAttributes = {}) {\n",
              "  const element = document.createElement('span');\n",
              "  element.textContent = text;\n",
              "  for (const key of Object.keys(styleAttributes)) {\n",
              "    element.style[key] = styleAttributes[key];\n",
              "  }\n",
              "  return element;\n",
              "}\n",
              "\n",
              "// Max number of bytes which will be uploaded at a time.\n",
              "const MAX_PAYLOAD_SIZE = 100 * 1024;\n",
              "\n",
              "function _uploadFiles(inputId, outputId) {\n",
              "  const steps = uploadFilesStep(inputId, outputId);\n",
              "  const outputElement = document.getElementById(outputId);\n",
              "  // Cache steps on the outputElement to make it available for the next call\n",
              "  // to uploadFilesContinue from Python.\n",
              "  outputElement.steps = steps;\n",
              "\n",
              "  return _uploadFilesContinue(outputId);\n",
              "}\n",
              "\n",
              "// This is roughly an async generator (not supported in the browser yet),\n",
              "// where there are multiple asynchronous steps and the Python side is going\n",
              "// to poll for completion of each step.\n",
              "// This uses a Promise to block the python side on completion of each step,\n",
              "// then passes the result of the previous step as the input to the next step.\n",
              "function _uploadFilesContinue(outputId) {\n",
              "  const outputElement = document.getElementById(outputId);\n",
              "  const steps = outputElement.steps;\n",
              "\n",
              "  const next = steps.next(outputElement.lastPromiseValue);\n",
              "  return Promise.resolve(next.value.promise).then((value) => {\n",
              "    // Cache the last promise value to make it available to the next\n",
              "    // step of the generator.\n",
              "    outputElement.lastPromiseValue = value;\n",
              "    return next.value.response;\n",
              "  });\n",
              "}\n",
              "\n",
              "/**\n",
              " * Generator function which is called between each async step of the upload\n",
              " * process.\n",
              " * @param {string} inputId Element ID of the input file picker element.\n",
              " * @param {string} outputId Element ID of the output display.\n",
              " * @return {!Iterable<!Object>} Iterable of next steps.\n",
              " */\n",
              "function* uploadFilesStep(inputId, outputId) {\n",
              "  const inputElement = document.getElementById(inputId);\n",
              "  inputElement.disabled = false;\n",
              "\n",
              "  const outputElement = document.getElementById(outputId);\n",
              "  outputElement.innerHTML = '';\n",
              "\n",
              "  const pickedPromise = new Promise((resolve) => {\n",
              "    inputElement.addEventListener('change', (e) => {\n",
              "      resolve(e.target.files);\n",
              "    });\n",
              "  });\n",
              "\n",
              "  const cancel = document.createElement('button');\n",
              "  inputElement.parentElement.appendChild(cancel);\n",
              "  cancel.textContent = 'Cancel upload';\n",
              "  const cancelPromise = new Promise((resolve) => {\n",
              "    cancel.onclick = () => {\n",
              "      resolve(null);\n",
              "    };\n",
              "  });\n",
              "\n",
              "  // Wait for the user to pick the files.\n",
              "  const files = yield {\n",
              "    promise: Promise.race([pickedPromise, cancelPromise]),\n",
              "    response: {\n",
              "      action: 'starting',\n",
              "    }\n",
              "  };\n",
              "\n",
              "  cancel.remove();\n",
              "\n",
              "  // Disable the input element since further picks are not allowed.\n",
              "  inputElement.disabled = true;\n",
              "\n",
              "  if (!files) {\n",
              "    return {\n",
              "      response: {\n",
              "        action: 'complete',\n",
              "      }\n",
              "    };\n",
              "  }\n",
              "\n",
              "  for (const file of files) {\n",
              "    const li = document.createElement('li');\n",
              "    li.append(span(file.name, {fontWeight: 'bold'}));\n",
              "    li.append(span(\n",
              "        `(${file.type || 'n/a'}) - ${file.size} bytes, ` +\n",
              "        `last modified: ${\n",
              "            file.lastModifiedDate ? file.lastModifiedDate.toLocaleDateString() :\n",
              "                                    'n/a'} - `));\n",
              "    const percent = span('0% done');\n",
              "    li.appendChild(percent);\n",
              "\n",
              "    outputElement.appendChild(li);\n",
              "\n",
              "    const fileDataPromise = new Promise((resolve) => {\n",
              "      const reader = new FileReader();\n",
              "      reader.onload = (e) => {\n",
              "        resolve(e.target.result);\n",
              "      };\n",
              "      reader.readAsArrayBuffer(file);\n",
              "    });\n",
              "    // Wait for the data to be ready.\n",
              "    let fileData = yield {\n",
              "      promise: fileDataPromise,\n",
              "      response: {\n",
              "        action: 'continue',\n",
              "      }\n",
              "    };\n",
              "\n",
              "    // Use a chunked sending to avoid message size limits. See b/62115660.\n",
              "    let position = 0;\n",
              "    do {\n",
              "      const length = Math.min(fileData.byteLength - position, MAX_PAYLOAD_SIZE);\n",
              "      const chunk = new Uint8Array(fileData, position, length);\n",
              "      position += length;\n",
              "\n",
              "      const base64 = btoa(String.fromCharCode.apply(null, chunk));\n",
              "      yield {\n",
              "        response: {\n",
              "          action: 'append',\n",
              "          file: file.name,\n",
              "          data: base64,\n",
              "        },\n",
              "      };\n",
              "\n",
              "      let percentDone = fileData.byteLength === 0 ?\n",
              "          100 :\n",
              "          Math.round((position / fileData.byteLength) * 100);\n",
              "      percent.textContent = `${percentDone}% done`;\n",
              "\n",
              "    } while (position < fileData.byteLength);\n",
              "  }\n",
              "\n",
              "  // All done.\n",
              "  yield {\n",
              "    response: {\n",
              "      action: 'complete',\n",
              "    }\n",
              "  };\n",
              "}\n",
              "\n",
              "scope.google = scope.google || {};\n",
              "scope.google.colab = scope.google.colab || {};\n",
              "scope.google.colab._files = {\n",
              "  _uploadFiles,\n",
              "  _uploadFilesContinue,\n",
              "};\n",
              "})(self);\n",
              "</script> "
            ]
          },
          "metadata": {}
        },
        {
          "output_type": "stream",
          "name": "stdout",
          "text": [
            "Saving accident.csv to accident.csv\n"
          ]
        },
        {
          "output_type": "execute_result",
          "data": {
            "text/plain": [
              "   index  accident_id  ST_CASE  VE_TOTAL  VE_FORMS  PEDS  PERSONS  COUNTY  \\\n",
              "0      0   2012040001    40001         1         1     0        1      19   \n",
              "1      1   2012040002    40002         1         1     0        2      25   \n",
              "2      2   2012040003    40003         1         1     1        0      13   \n",
              "3      3   2012040004    40004         2         2     0        2      13   \n",
              "4      4   2012040005    40005         2         2     0        4      19   \n",
              "\n",
              "  county_name  CITY  ... A_POLPUR  a_polour_lit  A_POSBAC  \\\n",
              "0        PIMA     0  ...        2   Other Crash         1   \n",
              "1     YAVAPAI    90  ...        2   Other Crash         1   \n",
              "2    MARICOPA   370  ...        2   Other Crash         2   \n",
              "3    MARICOPA   190  ...        2   Other Crash         2   \n",
              "4        PIMA   530  ...        2   Other Crash         3   \n",
              "\n",
              "                              a_posbac_lit  A_DIST   a_dist_lit  A_DROWSY  \\\n",
              "0   Driver With Positive BAC Testing Crash       2  Other Crash         2   \n",
              "1   Driver With Positive BAC Testing Crash       2  Other Crash         2   \n",
              "2  All Drivers With ZERO BAC Testing Crash       2  Other Crash         2   \n",
              "3  All Drivers With ZERO BAC Testing Crash       2  Other Crash         2   \n",
              "4                        Unknown BAC Crash       2  Other Crash         2   \n",
              "\n",
              "   a_drowsy_lit INDIAN_RES    indian_res_lit  \n",
              "0   Other Crash          0  Not Tribal Lands  \n",
              "1   Other Crash          0  Not Tribal Lands  \n",
              "2   Other Crash          0  Not Tribal Lands  \n",
              "3   Other Crash          0  Not Tribal Lands  \n",
              "4   Other Crash          0  Not Tribal Lands  \n",
              "\n",
              "[5 rows x 80 columns]"
            ],
            "text/html": [
              "\n",
              "  <div id=\"df-fc6e6f1a-dda8-47ca-9045-dd3a6b7820e1\" class=\"colab-df-container\">\n",
              "    <div>\n",
              "<style scoped>\n",
              "    .dataframe tbody tr th:only-of-type {\n",
              "        vertical-align: middle;\n",
              "    }\n",
              "\n",
              "    .dataframe tbody tr th {\n",
              "        vertical-align: top;\n",
              "    }\n",
              "\n",
              "    .dataframe thead th {\n",
              "        text-align: right;\n",
              "    }\n",
              "</style>\n",
              "<table border=\"1\" class=\"dataframe\">\n",
              "  <thead>\n",
              "    <tr style=\"text-align: right;\">\n",
              "      <th></th>\n",
              "      <th>index</th>\n",
              "      <th>accident_id</th>\n",
              "      <th>ST_CASE</th>\n",
              "      <th>VE_TOTAL</th>\n",
              "      <th>VE_FORMS</th>\n",
              "      <th>PEDS</th>\n",
              "      <th>PERSONS</th>\n",
              "      <th>COUNTY</th>\n",
              "      <th>county_name</th>\n",
              "      <th>CITY</th>\n",
              "      <th>...</th>\n",
              "      <th>A_POLPUR</th>\n",
              "      <th>a_polour_lit</th>\n",
              "      <th>A_POSBAC</th>\n",
              "      <th>a_posbac_lit</th>\n",
              "      <th>A_DIST</th>\n",
              "      <th>a_dist_lit</th>\n",
              "      <th>A_DROWSY</th>\n",
              "      <th>a_drowsy_lit</th>\n",
              "      <th>INDIAN_RES</th>\n",
              "      <th>indian_res_lit</th>\n",
              "    </tr>\n",
              "  </thead>\n",
              "  <tbody>\n",
              "    <tr>\n",
              "      <th>0</th>\n",
              "      <td>0</td>\n",
              "      <td>2012040001</td>\n",
              "      <td>40001</td>\n",
              "      <td>1</td>\n",
              "      <td>1</td>\n",
              "      <td>0</td>\n",
              "      <td>1</td>\n",
              "      <td>19</td>\n",
              "      <td>PIMA</td>\n",
              "      <td>0</td>\n",
              "      <td>...</td>\n",
              "      <td>2</td>\n",
              "      <td>Other Crash</td>\n",
              "      <td>1</td>\n",
              "      <td>Driver With Positive BAC Testing Crash</td>\n",
              "      <td>2</td>\n",
              "      <td>Other Crash</td>\n",
              "      <td>2</td>\n",
              "      <td>Other Crash</td>\n",
              "      <td>0</td>\n",
              "      <td>Not Tribal Lands</td>\n",
              "    </tr>\n",
              "    <tr>\n",
              "      <th>1</th>\n",
              "      <td>1</td>\n",
              "      <td>2012040002</td>\n",
              "      <td>40002</td>\n",
              "      <td>1</td>\n",
              "      <td>1</td>\n",
              "      <td>0</td>\n",
              "      <td>2</td>\n",
              "      <td>25</td>\n",
              "      <td>YAVAPAI</td>\n",
              "      <td>90</td>\n",
              "      <td>...</td>\n",
              "      <td>2</td>\n",
              "      <td>Other Crash</td>\n",
              "      <td>1</td>\n",
              "      <td>Driver With Positive BAC Testing Crash</td>\n",
              "      <td>2</td>\n",
              "      <td>Other Crash</td>\n",
              "      <td>2</td>\n",
              "      <td>Other Crash</td>\n",
              "      <td>0</td>\n",
              "      <td>Not Tribal Lands</td>\n",
              "    </tr>\n",
              "    <tr>\n",
              "      <th>2</th>\n",
              "      <td>2</td>\n",
              "      <td>2012040003</td>\n",
              "      <td>40003</td>\n",
              "      <td>1</td>\n",
              "      <td>1</td>\n",
              "      <td>1</td>\n",
              "      <td>0</td>\n",
              "      <td>13</td>\n",
              "      <td>MARICOPA</td>\n",
              "      <td>370</td>\n",
              "      <td>...</td>\n",
              "      <td>2</td>\n",
              "      <td>Other Crash</td>\n",
              "      <td>2</td>\n",
              "      <td>All Drivers With ZERO BAC Testing Crash</td>\n",
              "      <td>2</td>\n",
              "      <td>Other Crash</td>\n",
              "      <td>2</td>\n",
              "      <td>Other Crash</td>\n",
              "      <td>0</td>\n",
              "      <td>Not Tribal Lands</td>\n",
              "    </tr>\n",
              "    <tr>\n",
              "      <th>3</th>\n",
              "      <td>3</td>\n",
              "      <td>2012040004</td>\n",
              "      <td>40004</td>\n",
              "      <td>2</td>\n",
              "      <td>2</td>\n",
              "      <td>0</td>\n",
              "      <td>2</td>\n",
              "      <td>13</td>\n",
              "      <td>MARICOPA</td>\n",
              "      <td>190</td>\n",
              "      <td>...</td>\n",
              "      <td>2</td>\n",
              "      <td>Other Crash</td>\n",
              "      <td>2</td>\n",
              "      <td>All Drivers With ZERO BAC Testing Crash</td>\n",
              "      <td>2</td>\n",
              "      <td>Other Crash</td>\n",
              "      <td>2</td>\n",
              "      <td>Other Crash</td>\n",
              "      <td>0</td>\n",
              "      <td>Not Tribal Lands</td>\n",
              "    </tr>\n",
              "    <tr>\n",
              "      <th>4</th>\n",
              "      <td>4</td>\n",
              "      <td>2012040005</td>\n",
              "      <td>40005</td>\n",
              "      <td>2</td>\n",
              "      <td>2</td>\n",
              "      <td>0</td>\n",
              "      <td>4</td>\n",
              "      <td>19</td>\n",
              "      <td>PIMA</td>\n",
              "      <td>530</td>\n",
              "      <td>...</td>\n",
              "      <td>2</td>\n",
              "      <td>Other Crash</td>\n",
              "      <td>3</td>\n",
              "      <td>Unknown BAC Crash</td>\n",
              "      <td>2</td>\n",
              "      <td>Other Crash</td>\n",
              "      <td>2</td>\n",
              "      <td>Other Crash</td>\n",
              "      <td>0</td>\n",
              "      <td>Not Tribal Lands</td>\n",
              "    </tr>\n",
              "  </tbody>\n",
              "</table>\n",
              "<p>5 rows × 80 columns</p>\n",
              "</div>\n",
              "    <div class=\"colab-df-buttons\">\n",
              "\n",
              "  <div class=\"colab-df-container\">\n",
              "    <button class=\"colab-df-convert\" onclick=\"convertToInteractive('df-fc6e6f1a-dda8-47ca-9045-dd3a6b7820e1')\"\n",
              "            title=\"Convert this dataframe to an interactive table.\"\n",
              "            style=\"display:none;\">\n",
              "\n",
              "  <svg xmlns=\"http://www.w3.org/2000/svg\" height=\"24px\" viewBox=\"0 -960 960 960\">\n",
              "    <path d=\"M120-120v-720h720v720H120Zm60-500h600v-160H180v160Zm220 220h160v-160H400v160Zm0 220h160v-160H400v160ZM180-400h160v-160H180v160Zm440 0h160v-160H620v160ZM180-180h160v-160H180v160Zm440 0h160v-160H620v160Z\"/>\n",
              "  </svg>\n",
              "    </button>\n",
              "\n",
              "  <style>\n",
              "    .colab-df-container {\n",
              "      display:flex;\n",
              "      gap: 12px;\n",
              "    }\n",
              "\n",
              "    .colab-df-convert {\n",
              "      background-color: #E8F0FE;\n",
              "      border: none;\n",
              "      border-radius: 50%;\n",
              "      cursor: pointer;\n",
              "      display: none;\n",
              "      fill: #1967D2;\n",
              "      height: 32px;\n",
              "      padding: 0 0 0 0;\n",
              "      width: 32px;\n",
              "    }\n",
              "\n",
              "    .colab-df-convert:hover {\n",
              "      background-color: #E2EBFA;\n",
              "      box-shadow: 0px 1px 2px rgba(60, 64, 67, 0.3), 0px 1px 3px 1px rgba(60, 64, 67, 0.15);\n",
              "      fill: #174EA6;\n",
              "    }\n",
              "\n",
              "    .colab-df-buttons div {\n",
              "      margin-bottom: 4px;\n",
              "    }\n",
              "\n",
              "    [theme=dark] .colab-df-convert {\n",
              "      background-color: #3B4455;\n",
              "      fill: #D2E3FC;\n",
              "    }\n",
              "\n",
              "    [theme=dark] .colab-df-convert:hover {\n",
              "      background-color: #434B5C;\n",
              "      box-shadow: 0px 1px 3px 1px rgba(0, 0, 0, 0.15);\n",
              "      filter: drop-shadow(0px 1px 2px rgba(0, 0, 0, 0.3));\n",
              "      fill: #FFFFFF;\n",
              "    }\n",
              "  </style>\n",
              "\n",
              "    <script>\n",
              "      const buttonEl =\n",
              "        document.querySelector('#df-fc6e6f1a-dda8-47ca-9045-dd3a6b7820e1 button.colab-df-convert');\n",
              "      buttonEl.style.display =\n",
              "        google.colab.kernel.accessAllowed ? 'block' : 'none';\n",
              "\n",
              "      async function convertToInteractive(key) {\n",
              "        const element = document.querySelector('#df-fc6e6f1a-dda8-47ca-9045-dd3a6b7820e1');\n",
              "        const dataTable =\n",
              "          await google.colab.kernel.invokeFunction('convertToInteractive',\n",
              "                                                    [key], {});\n",
              "        if (!dataTable) return;\n",
              "\n",
              "        const docLinkHtml = 'Like what you see? Visit the ' +\n",
              "          '<a target=\"_blank\" href=https://colab.research.google.com/notebooks/data_table.ipynb>data table notebook</a>'\n",
              "          + ' to learn more about interactive tables.';\n",
              "        element.innerHTML = '';\n",
              "        dataTable['output_type'] = 'display_data';\n",
              "        await google.colab.output.renderOutput(dataTable, element);\n",
              "        const docLink = document.createElement('div');\n",
              "        docLink.innerHTML = docLinkHtml;\n",
              "        element.appendChild(docLink);\n",
              "      }\n",
              "    </script>\n",
              "  </div>\n",
              "\n",
              "\n",
              "<div id=\"df-84c590f1-ee95-4142-b735-b416365d9ec9\">\n",
              "  <button class=\"colab-df-quickchart\" onclick=\"quickchart('df-84c590f1-ee95-4142-b735-b416365d9ec9')\"\n",
              "            title=\"Suggest charts\"\n",
              "            style=\"display:none;\">\n",
              "\n",
              "<svg xmlns=\"http://www.w3.org/2000/svg\" height=\"24px\"viewBox=\"0 0 24 24\"\n",
              "     width=\"24px\">\n",
              "    <g>\n",
              "        <path d=\"M19 3H5c-1.1 0-2 .9-2 2v14c0 1.1.9 2 2 2h14c1.1 0 2-.9 2-2V5c0-1.1-.9-2-2-2zM9 17H7v-7h2v7zm4 0h-2V7h2v10zm4 0h-2v-4h2v4z\"/>\n",
              "    </g>\n",
              "</svg>\n",
              "  </button>\n",
              "\n",
              "<style>\n",
              "  .colab-df-quickchart {\n",
              "      --bg-color: #E8F0FE;\n",
              "      --fill-color: #1967D2;\n",
              "      --hover-bg-color: #E2EBFA;\n",
              "      --hover-fill-color: #174EA6;\n",
              "      --disabled-fill-color: #AAA;\n",
              "      --disabled-bg-color: #DDD;\n",
              "  }\n",
              "\n",
              "  [theme=dark] .colab-df-quickchart {\n",
              "      --bg-color: #3B4455;\n",
              "      --fill-color: #D2E3FC;\n",
              "      --hover-bg-color: #434B5C;\n",
              "      --hover-fill-color: #FFFFFF;\n",
              "      --disabled-bg-color: #3B4455;\n",
              "      --disabled-fill-color: #666;\n",
              "  }\n",
              "\n",
              "  .colab-df-quickchart {\n",
              "    background-color: var(--bg-color);\n",
              "    border: none;\n",
              "    border-radius: 50%;\n",
              "    cursor: pointer;\n",
              "    display: none;\n",
              "    fill: var(--fill-color);\n",
              "    height: 32px;\n",
              "    padding: 0;\n",
              "    width: 32px;\n",
              "  }\n",
              "\n",
              "  .colab-df-quickchart:hover {\n",
              "    background-color: var(--hover-bg-color);\n",
              "    box-shadow: 0 1px 2px rgba(60, 64, 67, 0.3), 0 1px 3px 1px rgba(60, 64, 67, 0.15);\n",
              "    fill: var(--button-hover-fill-color);\n",
              "  }\n",
              "\n",
              "  .colab-df-quickchart-complete:disabled,\n",
              "  .colab-df-quickchart-complete:disabled:hover {\n",
              "    background-color: var(--disabled-bg-color);\n",
              "    fill: var(--disabled-fill-color);\n",
              "    box-shadow: none;\n",
              "  }\n",
              "\n",
              "  .colab-df-spinner {\n",
              "    border: 2px solid var(--fill-color);\n",
              "    border-color: transparent;\n",
              "    border-bottom-color: var(--fill-color);\n",
              "    animation:\n",
              "      spin 1s steps(1) infinite;\n",
              "  }\n",
              "\n",
              "  @keyframes spin {\n",
              "    0% {\n",
              "      border-color: transparent;\n",
              "      border-bottom-color: var(--fill-color);\n",
              "      border-left-color: var(--fill-color);\n",
              "    }\n",
              "    20% {\n",
              "      border-color: transparent;\n",
              "      border-left-color: var(--fill-color);\n",
              "      border-top-color: var(--fill-color);\n",
              "    }\n",
              "    30% {\n",
              "      border-color: transparent;\n",
              "      border-left-color: var(--fill-color);\n",
              "      border-top-color: var(--fill-color);\n",
              "      border-right-color: var(--fill-color);\n",
              "    }\n",
              "    40% {\n",
              "      border-color: transparent;\n",
              "      border-right-color: var(--fill-color);\n",
              "      border-top-color: var(--fill-color);\n",
              "    }\n",
              "    60% {\n",
              "      border-color: transparent;\n",
              "      border-right-color: var(--fill-color);\n",
              "    }\n",
              "    80% {\n",
              "      border-color: transparent;\n",
              "      border-right-color: var(--fill-color);\n",
              "      border-bottom-color: var(--fill-color);\n",
              "    }\n",
              "    90% {\n",
              "      border-color: transparent;\n",
              "      border-bottom-color: var(--fill-color);\n",
              "    }\n",
              "  }\n",
              "</style>\n",
              "\n",
              "  <script>\n",
              "    async function quickchart(key) {\n",
              "      const quickchartButtonEl =\n",
              "        document.querySelector('#' + key + ' button');\n",
              "      quickchartButtonEl.disabled = true;  // To prevent multiple clicks.\n",
              "      quickchartButtonEl.classList.add('colab-df-spinner');\n",
              "      try {\n",
              "        const charts = await google.colab.kernel.invokeFunction(\n",
              "            'suggestCharts', [key], {});\n",
              "      } catch (error) {\n",
              "        console.error('Error during call to suggestCharts:', error);\n",
              "      }\n",
              "      quickchartButtonEl.classList.remove('colab-df-spinner');\n",
              "      quickchartButtonEl.classList.add('colab-df-quickchart-complete');\n",
              "    }\n",
              "    (() => {\n",
              "      let quickchartButtonEl =\n",
              "        document.querySelector('#df-84c590f1-ee95-4142-b735-b416365d9ec9 button');\n",
              "      quickchartButtonEl.style.display =\n",
              "        google.colab.kernel.accessAllowed ? 'block' : 'none';\n",
              "    })();\n",
              "  </script>\n",
              "</div>\n",
              "\n",
              "    </div>\n",
              "  </div>\n"
            ],
            "application/vnd.google.colaboratory.intrinsic+json": {
              "type": "dataframe",
              "variable_name": "df"
            }
          },
          "metadata": {},
          "execution_count": 2
        }
      ]
    },
    {
      "cell_type": "code",
      "source": [
        "# Check for missing values in each column\n",
        "missing_values = df.isnull().sum()\n",
        "\n",
        "# Display only columns that have missing values\n",
        "missing_values = missing_values[missing_values > 0]\n",
        "\n",
        "print(\"Missing Values in Each Column:\")\n",
        "print(missing_values)"
      ],
      "metadata": {
        "collapsed": true,
        "id": "pygZbilHptwk",
        "outputId": "e62d7b4d-45f9-45c7-bf2c-abb36f8ae3a9",
        "colab": {
          "base_uri": "https://localhost:8080/"
        }
      },
      "execution_count": 3,
      "outputs": [
        {
          "output_type": "stream",
          "name": "stdout",
          "text": [
            "Missing Values in Each Column:\n",
            "FUNC_SYS    1112\n",
            "ROAD_FNC     748\n",
            "RD_OWNER    1112\n",
            "TWAY_ID2    1311\n",
            "cf1_lit     1804\n",
            "cf2_lit     1857\n",
            "cf3_lit     1859\n",
            "dtype: int64\n"
          ]
        }
      ]
    },
    {
      "cell_type": "code",
      "source": [
        "# Check dataset info\n",
        "df.info()\n",
        "\n",
        "# Display number of unique values per column\n",
        "print(\"\\nUnique Values Per Column:\")\n",
        "print(df.nunique())"
      ],
      "metadata": {
        "collapsed": true,
        "id": "n62DyQdAqRiD",
        "outputId": "02713ff4-3562-4977-bfb6-d57dd9271e25",
        "colab": {
          "base_uri": "https://localhost:8080/"
        }
      },
      "execution_count": 4,
      "outputs": [
        {
          "output_type": "stream",
          "name": "stdout",
          "text": [
            "<class 'pandas.core.frame.DataFrame'>\n",
            "RangeIndex: 1860 entries, 0 to 1859\n",
            "Data columns (total 80 columns):\n",
            " #   Column          Non-Null Count  Dtype  \n",
            "---  ------          --------------  -----  \n",
            " 0   index           1860 non-null   int64  \n",
            " 1   accident_id     1860 non-null   int64  \n",
            " 2   ST_CASE         1860 non-null   int64  \n",
            " 3   VE_TOTAL        1860 non-null   int64  \n",
            " 4   VE_FORMS        1860 non-null   int64  \n",
            " 5   PEDS            1860 non-null   int64  \n",
            " 6   PERSONS         1860 non-null   int64  \n",
            " 7   COUNTY          1860 non-null   int64  \n",
            " 8   county_name     1860 non-null   object \n",
            " 9   CITY            1860 non-null   int64  \n",
            " 10  city_name       1860 non-null   object \n",
            " 11  DAY             1860 non-null   int64  \n",
            " 12  MONTH           1860 non-null   int64  \n",
            " 13  YEAR            1860 non-null   int64  \n",
            " 14  HOUR            1860 non-null   int64  \n",
            " 15  MINUTE          1860 non-null   int64  \n",
            " 16  NHS             1860 non-null   int64  \n",
            " 17  FUNC_SYS        748 non-null    float64\n",
            " 18  func_sys_lit    1860 non-null   object \n",
            " 19  ROAD_FNC        1112 non-null   float64\n",
            " 20  road_fnc_lit    1860 non-null   object \n",
            " 21  RD_OWNER        748 non-null    float64\n",
            " 22  rd_owner_lit    1860 non-null   object \n",
            " 23  TWAY_ID         1860 non-null   object \n",
            " 24  TWAY_ID2        549 non-null    object \n",
            " 25  LATITUDE        1860 non-null   float64\n",
            " 26  LONGITUD        1860 non-null   float64\n",
            " 27  SP_JUR          1860 non-null   int64  \n",
            " 28  sp_jur_lit      1860 non-null   object \n",
            " 29  HARM_EV         1860 non-null   int64  \n",
            " 30  harm_ev_lit     1860 non-null   object \n",
            " 31  MAN_COLL        1860 non-null   int64  \n",
            " 32  man_coll_lit    1860 non-null   object \n",
            " 33  RELJCT1         1860 non-null   int64  \n",
            " 34  RELJCT2         1860 non-null   int64  \n",
            " 35  TYP_INT         1860 non-null   int64  \n",
            " 36  WRK_ZONE        1860 non-null   int64  \n",
            " 37  REL_ROAD        1860 non-null   int64  \n",
            " 38  LGT_COND        1860 non-null   int64  \n",
            " 39  lgt_cond_lit    1860 non-null   object \n",
            " 40  WEATHER         1860 non-null   int64  \n",
            " 41  weather_lit     1860 non-null   object \n",
            " 42  SCH_BUS         1860 non-null   object \n",
            " 43  CF1             1860 non-null   int64  \n",
            " 44  CF2             1860 non-null   int64  \n",
            " 45  CF3             1860 non-null   int64  \n",
            " 46  cf1_lit         56 non-null     object \n",
            " 47  cf2_lit         3 non-null      object \n",
            " 48  cf3_lit         1 non-null      object \n",
            " 49  FATALS          1860 non-null   int64  \n",
            " 50  A_INTER         1860 non-null   int64  \n",
            " 51  a_inter_lit     1860 non-null   object \n",
            " 52  A_ROADFC        1860 non-null   int64  \n",
            " 53  a_road_fc_lit   1860 non-null   object \n",
            " 54  A_TOD           1860 non-null   int64  \n",
            " 55  a_tod_lit       1860 non-null   object \n",
            " 56  A_DOW           1860 non-null   int64  \n",
            " 57  a_dow_lit       1860 non-null   object \n",
            " 58  A_LT            1860 non-null   int64  \n",
            " 59  a_lt_lit        1860 non-null   object \n",
            " 60  A_SPCRA         1860 non-null   int64  \n",
            " 61  a_spcra_lit     1860 non-null   object \n",
            " 62  A_PED           1860 non-null   int64  \n",
            " 63  a_ped_lit       1860 non-null   object \n",
            " 64  A_PED_F         1860 non-null   int64  \n",
            " 65  a_ped_f_lit     1860 non-null   object \n",
            " 66  A_PEDAL         1860 non-null   int64  \n",
            " 67  a_pedal_lit     1860 non-null   object \n",
            " 68  A_PEDAL_F       1860 non-null   int64  \n",
            " 69  a_pedal_f_lit   1860 non-null   object \n",
            " 70  A_POLPUR        1860 non-null   int64  \n",
            " 71  a_polour_lit    1860 non-null   object \n",
            " 72  A_POSBAC        1860 non-null   int64  \n",
            " 73  a_posbac_lit    1860 non-null   object \n",
            " 74  A_DIST          1860 non-null   int64  \n",
            " 75  a_dist_lit      1860 non-null   object \n",
            " 76  A_DROWSY        1860 non-null   int64  \n",
            " 77  a_drowsy_lit    1860 non-null   object \n",
            " 78  INDIAN_RES      1860 non-null   int64  \n",
            " 79  indian_res_lit  1860 non-null   object \n",
            "dtypes: float64(5), int64(44), object(31)\n",
            "memory usage: 1.1+ MB\n",
            "\n",
            "Unique Values Per Column:\n",
            "index             1860\n",
            "accident_id       1860\n",
            "ST_CASE            811\n",
            "VE_TOTAL             6\n",
            "VE_FORMS             5\n",
            "                  ... \n",
            "a_dist_lit           2\n",
            "A_DROWSY             2\n",
            "a_drowsy_lit         2\n",
            "INDIAN_RES           2\n",
            "indian_res_lit       2\n",
            "Length: 80, dtype: int64\n"
          ]
        }
      ]
    },
    {
      "cell_type": "code",
      "source": [
        "# Drop columns with too many missing values\n",
        "df.drop(columns=['cf2_lit', 'cf3_lit', 'TWAY_ID2'], inplace=True)\n",
        "\n",
        "# Fill missing values for numerical columns with median\n",
        "numerical_cols = df.select_dtypes(include=['float64', 'int64']).columns\n",
        "df[numerical_cols] = df[numerical_cols].fillna(df[numerical_cols].median())\n",
        "\n",
        "# Fill missing values for categorical columns with mode\n",
        "categorical_cols = df.select_dtypes(include=['object']).columns\n",
        "df[categorical_cols] = df[categorical_cols].fillna(df[categorical_cols].mode().iloc[0])\n",
        "\n",
        "# Confirm missing values are handled\n",
        "print(\"Missing values after cleaning:\")\n",
        "print(df.isnull().sum().sum())  # Should print 0 if all missing values are handled"
      ],
      "metadata": {
        "collapsed": true,
        "id": "7yVV3XPhsVY9",
        "outputId": "62361525-e163-489f-c1dd-76711532f7a8",
        "colab": {
          "base_uri": "https://localhost:8080/"
        }
      },
      "execution_count": 5,
      "outputs": [
        {
          "output_type": "stream",
          "name": "stdout",
          "text": [
            "Missing values after cleaning:\n",
            "0\n"
          ]
        }
      ]
    },
    {
      "cell_type": "code",
      "source": [
        "columns_to_drop = ['index', 'accident_id', 'ST_CASE', 'func_sys_lit', 'road_fnc_lit', 'rd_owner_lit']\n",
        "df.drop(columns=columns_to_drop, inplace=True)\n",
        "\n",
        "# Confirm changes\n",
        "print(\"Remaining columns after dropping unnecessary features:\")\n",
        "print(df.columns)"
      ],
      "metadata": {
        "collapsed": true,
        "id": "2JvJlke0spg_",
        "outputId": "6d259d2f-46d8-421f-ecdc-63a0037aa6ae",
        "colab": {
          "base_uri": "https://localhost:8080/"
        }
      },
      "execution_count": 6,
      "outputs": [
        {
          "output_type": "stream",
          "name": "stdout",
          "text": [
            "Remaining columns after dropping unnecessary features:\n",
            "Index(['VE_TOTAL', 'VE_FORMS', 'PEDS', 'PERSONS', 'COUNTY', 'county_name',\n",
            "       'CITY', 'city_name', 'DAY', 'MONTH', 'YEAR', 'HOUR', 'MINUTE', 'NHS',\n",
            "       'FUNC_SYS', 'ROAD_FNC', 'RD_OWNER', 'TWAY_ID', 'LATITUDE', 'LONGITUD',\n",
            "       'SP_JUR', 'sp_jur_lit', 'HARM_EV', 'harm_ev_lit', 'MAN_COLL',\n",
            "       'man_coll_lit', 'RELJCT1', 'RELJCT2', 'TYP_INT', 'WRK_ZONE', 'REL_ROAD',\n",
            "       'LGT_COND', 'lgt_cond_lit', 'WEATHER', 'weather_lit', 'SCH_BUS', 'CF1',\n",
            "       'CF2', 'CF3', 'cf1_lit', 'FATALS', 'A_INTER', 'a_inter_lit', 'A_ROADFC',\n",
            "       'a_road_fc_lit', 'A_TOD', 'a_tod_lit', 'A_DOW', 'a_dow_lit', 'A_LT',\n",
            "       'a_lt_lit', 'A_SPCRA', 'a_spcra_lit', 'A_PED', 'a_ped_lit', 'A_PED_F',\n",
            "       'a_ped_f_lit', 'A_PEDAL', 'a_pedal_lit', 'A_PEDAL_F', 'a_pedal_f_lit',\n",
            "       'A_POLPUR', 'a_polour_lit', 'A_POSBAC', 'a_posbac_lit', 'A_DIST',\n",
            "       'a_dist_lit', 'A_DROWSY', 'a_drowsy_lit', 'INDIAN_RES',\n",
            "       'indian_res_lit'],\n",
            "      dtype='object')\n"
          ]
        }
      ]
    },
    {
      "cell_type": "code",
      "source": [
        "import matplotlib.pyplot as plt\n",
        "import seaborn as sns\n",
        "\n",
        "# Plot distribution of fatalities\n",
        "plt.figure(figsize=(8,5))\n",
        "sns.countplot(x=df['FATALS'], palette=\"viridis\")\n",
        "plt.title(\"Distribution of Fatalities in Accidents\")\n",
        "plt.xlabel(\"Number of Fatalities\")\n",
        "plt.ylabel(\"Count\")\n",
        "plt.show()"
      ],
      "metadata": {
        "collapsed": true,
        "id": "eftBeqvUtErk",
        "outputId": "a2667878-706a-492a-9daf-d90337eb0a9b",
        "colab": {
          "base_uri": "https://localhost:8080/",
          "height": 578
        }
      },
      "execution_count": 7,
      "outputs": [
        {
          "output_type": "stream",
          "name": "stderr",
          "text": [
            "<ipython-input-7-a3bd115bfd87>:6: FutureWarning: \n",
            "\n",
            "Passing `palette` without assigning `hue` is deprecated and will be removed in v0.14.0. Assign the `x` variable to `hue` and set `legend=False` for the same effect.\n",
            "\n",
            "  sns.countplot(x=df['FATALS'], palette=\"viridis\")\n"
          ]
        },
        {
          "output_type": "display_data",
          "data": {
            "text/plain": [
              "<Figure size 800x500 with 1 Axes>"
            ],
            "image/png": "[encoded data removed]"
          },
          "metadata": {}
        }
      ]
    },
    {
      "cell_type": "code",
      "source": [
        "# Select only numeric columns for correlation\n",
        "numeric_df = df.select_dtypes(include=['number'])\n",
        "\n",
        "# Compute correlation matrix\n",
        "correlation_matrix = numeric_df.corr()\n",
        "\n",
        "# Plot heatmap\n",
        "plt.figure(figsize=(15,10))\n",
        "sns.heatmap(correlation_matrix, cmap=\"coolwarm\", annot=False, linewidths=0.5)\n",
        "plt.title(\"Feature Correlation Heatmap\")\n",
        "plt.show()"
      ],
      "metadata": {
        "collapsed": true,
        "id": "nRTQsB-pvP1I",
        "outputId": "9e264838-1ef6-44b7-f70f-1422442ab399",
        "colab": {
          "base_uri": "https://localhost:8080/",
          "height": 922
        }
      },
      "execution_count": 8,
      "outputs": [
        {
          "output_type": "display_data",
          "data": {
            "text/plain": [
              "<Figure size 1500x1000 with 2 Axes>"
            ],
            "image/png": "[encoded data removed]"
          },
          "metadata": {}
        }
      ]
    },
    {
      "cell_type": "code",
      "source": [
        "# Sort correlations with the target variable (FATALS)\n",
        "fatality_correlation = correlation_matrix['FATALS'].sort_values(ascending=False)\n",
        "\n",
        "# Display the most correlated features\n",
        "print(\"Top Features Correlated with Fatalities:\")\n",
        "print(fatality_correlation)"
      ],
      "metadata": {
        "collapsed": true,
        "id": "IRzqRXbWv6e_",
        "outputId": "5213327b-9603-4a93-d05c-33129048eea3",
        "colab": {
          "base_uri": "https://localhost:8080/"
        }
      },
      "execution_count": 9,
      "outputs": [
        {
          "output_type": "stream",
          "name": "stdout",
          "text": [
            "Top Features Correlated with Fatalities:\n",
            "FATALS        1.000000\n",
            "PERSONS       0.384927\n",
            "VE_FORMS      0.152509\n",
            "VE_TOTAL      0.141856\n",
            "INDIAN_RES    0.130341\n",
            "SP_JUR        0.114870\n",
            "A_PED         0.114694\n",
            "A_PED_F       0.114058\n",
            "MAN_COLL      0.058171\n",
            "A_PEDAL_F     0.043354\n",
            "A_PEDAL       0.043354\n",
            "CF1           0.035046\n",
            "DAY           0.031811\n",
            "MONTH         0.026255\n",
            "HARM_EV       0.021277\n",
            "REL_ROAD      0.018227\n",
            "RELJCT2       0.014740\n",
            "A_DIST        0.012600\n",
            "TYP_INT       0.005969\n",
            "A_TOD         0.000907\n",
            "LATITUDE     -0.001467\n",
            "A_DOW        -0.003045\n",
            "RD_OWNER     -0.004443\n",
            "LONGITUD     -0.005507\n",
            "CF3          -0.005694\n",
            "YEAR         -0.006811\n",
            "CF2          -0.008104\n",
            "WRK_ZONE     -0.009886\n",
            "WEATHER      -0.010511\n",
            "RELJCT1      -0.016946\n",
            "COUNTY       -0.019365\n",
            "FUNC_SYS     -0.020067\n",
            "NHS          -0.021000\n",
            "HOUR         -0.022026\n",
            "A_INTER      -0.023263\n",
            "A_LT         -0.025089\n",
            "MINUTE       -0.026454\n",
            "LGT_COND     -0.032725\n",
            "CITY         -0.035573\n",
            "A_POSBAC     -0.044726\n",
            "A_ROADFC     -0.046654\n",
            "A_POLPUR     -0.051393\n",
            "A_DROWSY     -0.066633\n",
            "A_SPCRA      -0.068495\n",
            "ROAD_FNC     -0.074552\n",
            "PEDS         -0.109421\n",
            "Name: FATALS, dtype: float64\n"
          ]
        }
      ]
    },
    {
      "cell_type": "code",
      "source": [
        "# Selecting the top relevant features based on correlation\n",
        "selected_features = ['PERSONS', 'VE_FORMS', 'VE_TOTAL', 'INDIAN_RES', 'SP_JUR', 'A_PED', 'A_PED_F', 'MAN_COLL', 'ROAD_FNC', 'A_DROWSY']\n",
        "\n",
        "# Define the target variable\n",
        "target = 'FATALS'\n",
        "\n",
        "# Create X (features) and y (target)\n",
        "X = df[selected_features]\n",
        "y = df[target]\n",
        "\n",
        "# Display selected features\n",
        "print(\"Selected Features for Model Training:\")\n",
        "print(X.head())"
      ],
      "metadata": {
        "collapsed": true,
        "id": "e1d9khJkxJOV",
        "outputId": "268b22d1-8c07-4125-a53b-89b70b88e2d3",
        "colab": {
          "base_uri": "https://localhost:8080/"
        }
      },
      "execution_count": 10,
      "outputs": [
        {
          "output_type": "stream",
          "name": "stdout",
          "text": [
            "Selected Features for Model Training:\n",
            "   PERSONS  VE_FORMS  VE_TOTAL  INDIAN_RES  SP_JUR  A_PED  A_PED_F  MAN_COLL  \\\n",
            "0        1         1         1           0       0      2        2         0   \n",
            "1        2         1         1           0       0      2        2         0   \n",
            "2        0         1         1           0       0      1        1         0   \n",
            "3        2         2         2           0       0      2        2         6   \n",
            "4        4         2         2           0       0      2        2         0   \n",
            "\n",
            "   ROAD_FNC  A_DROWSY  \n",
            "0      16.0         2  \n",
            "1       4.0         2  \n",
            "2      15.0         2  \n",
            "3      15.0         2  \n",
            "4       4.0         2  \n"
          ]
        }
      ]
    },
    {
      "cell_type": "code",
      "source": [
        "from sklearn.model_selection import train_test_split\n",
        "\n",
        "# Split the dataset (80% training, 20% testing)\n",
        "X_train, X_test, y_train, y_test = train_test_split(X, y, test_size=0.2, random_state=42)\n",
        "\n",
        "# Print dataset sizes\n",
        "print(f\"Training Set: {X_train.shape[0]} samples\")\n",
        "print(f\"Testing Set: {X_test.shape[0]} samples\")"
      ],
      "metadata": {
        "collapsed": true,
        "id": "5P7Cqh-rxpeI",
        "outputId": "35ca8f1c-ff7f-4e30-dcb3-887775f618c4",
        "colab": {
          "base_uri": "https://localhost:8080/"
        }
      },
      "execution_count": 11,
      "outputs": [
        {
          "output_type": "stream",
          "name": "stdout",
          "text": [
            "Training Set: 1488 samples\n",
            "Testing Set: 372 samples\n"
          ]
        }
      ]
    },
    {
      "cell_type": "code",
      "source": [
        "from sklearn.linear_model import LogisticRegression\n",
        "from sklearn.metrics import accuracy_score\n",
        "\n",
        "# Initialize Logistic Regression model\n",
        "model = LogisticRegression(max_iter=1000)\n",
        "\n",
        "# Train the model\n",
        "model.fit(X_train, y_train)\n",
        "\n",
        "# Make predictions on the test set\n",
        "y_pred = model.predict(X_test)\n",
        "\n",
        "# Calculate accuracy\n",
        "accuracy = accuracy_score(y_test, y_pred)\n",
        "print(f\"Logistic Regression Accuracy: {accuracy:.4f}\")"
      ],
      "metadata": {
        "collapsed": true,
        "id": "19B1iHWCzAGn",
        "outputId": "6582a5ac-501a-45f9-a6d1-b0646dfd7d2b",
        "colab": {
          "base_uri": "https://localhost:8080/"
        }
      },
      "execution_count": 12,
      "outputs": [
        {
          "output_type": "stream",
          "name": "stdout",
          "text": [
            "Logistic Regression Accuracy: 0.9435\n"
          ]
        },
        {
          "output_type": "stream",
          "name": "stderr",
          "text": [
            "/usr/local/lib/python3.11/dist-packages/sklearn/linear_model/_logistic.py:465: ConvergenceWarning: lbfgs failed to converge (status=1):\n",
            "STOP: TOTAL NO. of ITERATIONS REACHED LIMIT.\n",
            "\n",
            "Increase the number of iterations (max_iter) or scale the data as shown in:\n",
            "    https://scikit-learn.org/stable/modules/preprocessing.html\n",
            "Please also refer to the documentation for alternative solver options:\n",
            "    https://scikit-learn.org/stable/modules/linear_model.html#logistic-regression\n",
            "  n_iter_i = _check_optimize_result(\n"
          ]
        }
      ]
    },
    {
      "cell_type": "code",
      "source": [
        "from sklearn.metrics import classification_report\n",
        "\n",
        "# Generate classification report\n",
        "print(\"Classification Report:\\n\")\n",
        "print(classification_report(y_test, y_pred))"
      ],
      "metadata": {
        "collapsed": true,
        "id": "xsWqlXfvzi-_",
        "outputId": "6dfb24b2-1d53-4d82-9703-2892b176852f",
        "colab": {
          "base_uri": "https://localhost:8080/"
        }
      },
      "execution_count": 13,
      "outputs": [
        {
          "output_type": "stream",
          "name": "stdout",
          "text": [
            "Classification Report:\n",
            "\n",
            "              precision    recall  f1-score   support\n",
            "\n",
            "           1       0.95      1.00      0.97       351\n",
            "           2       0.33      0.06      0.11        16\n",
            "           3       0.00      0.00      0.00         3\n",
            "           4       0.00      0.00      0.00         2\n",
            "\n",
            "    accuracy                           0.94       372\n",
            "   macro avg       0.32      0.26      0.27       372\n",
            "weighted avg       0.91      0.94      0.92       372\n",
            "\n"
          ]
        },
        {
          "output_type": "stream",
          "name": "stderr",
          "text": [
            "/usr/local/lib/python3.11/dist-packages/sklearn/metrics/_classification.py:1565: UndefinedMetricWarning: Precision is ill-defined and being set to 0.0 in labels with no predicted samples. Use `zero_division` parameter to control this behavior.\n",
            "  _warn_prf(average, modifier, f\"{metric.capitalize()} is\", len(result))\n",
            "/usr/local/lib/python3.11/dist-packages/sklearn/metrics/_classification.py:1565: UndefinedMetricWarning: Precision is ill-defined and being set to 0.0 in labels with no predicted samples. Use `zero_division` parameter to control this behavior.\n",
            "  _warn_prf(average, modifier, f\"{metric.capitalize()} is\", len(result))\n",
            "/usr/local/lib/python3.11/dist-packages/sklearn/metrics/_classification.py:1565: UndefinedMetricWarning: Precision is ill-defined and being set to 0.0 in labels with no predicted samples. Use `zero_division` parameter to control this behavior.\n",
            "  _warn_prf(average, modifier, f\"{metric.capitalize()} is\", len(result))\n"
          ]
        }
      ]
    },
    {
      "cell_type": "code",
      "source": [
        "# Train a Random Forest Model:\n",
        "\n",
        "from sklearn.ensemble import RandomForestClassifier\n",
        "from sklearn.metrics import accuracy_score\n",
        "\n",
        "# Initialize Random Forest model\n",
        "rf_model = RandomForestClassifier(\n",
        "    n_estimators=100,  # Number of trees\n",
        "    max_depth=10,  # Limit tree depth to avoid overfitting\n",
        "    class_weight='balanced',  # Handle class imbalance\n",
        "    random_state=42\n",
        ")\n",
        "\n",
        "# Train the model\n",
        "rf_model.fit(X_train, y_train)\n",
        "\n",
        "# Make predictions on the test set\n",
        "y_pred_rf = rf_model.predict(X_test)\n",
        "\n",
        "# Calculate accuracy\n",
        "rf_accuracy = accuracy_score(y_test, y_pred_rf)\n",
        "print(f\"Random Forest Accuracy: {rf_accuracy:.4f}\")"
      ],
      "metadata": {
        "id": "_STR02soASuj",
        "outputId": "e2ce7db4-85e7-4b11-e49a-0c63aa7c96d8",
        "colab": {
          "base_uri": "https://localhost:8080/"
        }
      },
      "execution_count": 14,
      "outputs": [
        {
          "output_type": "stream",
          "name": "stdout",
          "text": [
            "Random Forest Accuracy: 0.8306\n"
          ]
        }
      ]
    },
    {
      "cell_type": "code",
      "source": [
        "from sklearn.metrics import classification_report\n",
        "\n",
        "# Generate classification report\n",
        "print(\"Random Forest Classification Report:\\n\")\n",
        "print(classification_report(y_test, y_pred_rf))"
      ],
      "metadata": {
        "id": "K5Ea51VLBKJB",
        "outputId": "6e61bb4a-fb41-4cc6-9564-62b5e347f2cd",
        "colab": {
          "base_uri": "https://localhost:8080/"
        }
      },
      "execution_count": 15,
      "outputs": [
        {
          "output_type": "stream",
          "name": "stdout",
          "text": [
            "Random Forest Classification Report:\n",
            "\n",
            "              precision    recall  f1-score   support\n",
            "\n",
            "           1       0.96      0.87      0.91       351\n",
            "           2       0.08      0.19      0.11        16\n",
            "           3       0.00      0.00      0.00         3\n",
            "           4       0.00      0.00      0.00         2\n",
            "           5       0.00      0.00      0.00         0\n",
            "\n",
            "    accuracy                           0.83       372\n",
            "   macro avg       0.21      0.21      0.20       372\n",
            "weighted avg       0.91      0.83      0.87       372\n",
            "\n"
          ]
        },
        {
          "output_type": "stream",
          "name": "stderr",
          "text": [
            "/usr/local/lib/python3.11/dist-packages/sklearn/metrics/_classification.py:1565: UndefinedMetricWarning: Recall is ill-defined and being set to 0.0 in labels with no true samples. Use `zero_division` parameter to control this behavior.\n",
            "  _warn_prf(average, modifier, f\"{metric.capitalize()} is\", len(result))\n",
            "/usr/local/lib/python3.11/dist-packages/sklearn/metrics/_classification.py:1565: UndefinedMetricWarning: Recall is ill-defined and being set to 0.0 in labels with no true samples. Use `zero_division` parameter to control this behavior.\n",
            "  _warn_prf(average, modifier, f\"{metric.capitalize()} is\", len(result))\n",
            "/usr/local/lib/python3.11/dist-packages/sklearn/metrics/_classification.py:1565: UndefinedMetricWarning: Recall is ill-defined and being set to 0.0 in labels with no true samples. Use `zero_division` parameter to control this behavior.\n",
            "  _warn_prf(average, modifier, f\"{metric.capitalize()} is\", len(result))\n"
          ]
        }
      ]
    },
    {
      "cell_type": "code",
      "source": [
        "# Initialize an improved Random Forest model\n",
        "rf_model_tuned = RandomForestClassifier(\n",
        "    n_estimators=200,  # More trees for better learning\n",
        "    max_depth=15,  # Allow deeper decision trees\n",
        "    class_weight='balanced',  # Handle class imbalance\n",
        "    random_state=42\n",
        ")\n",
        "\n",
        "# Train the improved model\n",
        "rf_model_tuned.fit(X_train, y_train)\n",
        "\n",
        "# Make predictions on the test set\n",
        "y_pred_rf_tuned = rf_model_tuned.predict(X_test)\n",
        "\n",
        "# Calculate new accuracy\n",
        "rf_tuned_accuracy = accuracy_score(y_test, y_pred_rf_tuned)\n",
        "print(f\"Tuned Random Forest Accuracy: {rf_tuned_accuracy:.4f}\")"
      ],
      "metadata": {
        "id": "pR4LVf8yDayQ",
        "outputId": "be610aa4-2267-43f2-89b2-4b3c34fe24b1",
        "colab": {
          "base_uri": "https://localhost:8080/"
        }
      },
      "execution_count": 16,
      "outputs": [
        {
          "output_type": "stream",
          "name": "stdout",
          "text": [
            "Tuned Random Forest Accuracy: 0.8280\n"
          ]
        }
      ]
    },
    {
      "cell_type": "code",
      "source": [
        "# Generate classification report for the improved model\n",
        "print(\"Tuned Random Forest Classification Report:\\n\")\n",
        "print(classification_report(y_test, y_pred_rf_tuned))"
      ],
      "metadata": {
        "id": "O1p0sfjoDofo",
        "outputId": "ccccf485-bfcd-4060-8fbc-8989caff3015",
        "colab": {
          "base_uri": "https://localhost:8080/"
        }
      },
      "execution_count": 17,
      "outputs": [
        {
          "output_type": "stream",
          "name": "stdout",
          "text": [
            "Tuned Random Forest Classification Report:\n",
            "\n",
            "              precision    recall  f1-score   support\n",
            "\n",
            "           1       0.96      0.87      0.91       351\n",
            "           2       0.05      0.12      0.07        16\n",
            "           3       0.00      0.00      0.00         3\n",
            "           4       0.00      0.00      0.00         2\n",
            "           5       0.00      0.00      0.00         0\n",
            "\n",
            "    accuracy                           0.83       372\n",
            "   macro avg       0.20      0.20      0.20       372\n",
            "weighted avg       0.91      0.83      0.86       372\n",
            "\n"
          ]
        },
        {
          "output_type": "stream",
          "name": "stderr",
          "text": [
            "/usr/local/lib/python3.11/dist-packages/sklearn/metrics/_classification.py:1565: UndefinedMetricWarning: Recall is ill-defined and being set to 0.0 in labels with no true samples. Use `zero_division` parameter to control this behavior.\n",
            "  _warn_prf(average, modifier, f\"{metric.capitalize()} is\", len(result))\n",
            "/usr/local/lib/python3.11/dist-packages/sklearn/metrics/_classification.py:1565: UndefinedMetricWarning: Recall is ill-defined and being set to 0.0 in labels with no true samples. Use `zero_division` parameter to control this behavior.\n",
            "  _warn_prf(average, modifier, f\"{metric.capitalize()} is\", len(result))\n",
            "/usr/local/lib/python3.11/dist-packages/sklearn/metrics/_classification.py:1565: UndefinedMetricWarning: Recall is ill-defined and being set to 0.0 in labels with no true samples. Use `zero_division` parameter to control this behavior.\n",
            "  _warn_prf(average, modifier, f\"{metric.capitalize()} is\", len(result))\n"
          ]
        }
      ]
    },
    {
      "cell_type": "code",
      "source": [
        "import matplotlib.pyplot as plt\n",
        "import numpy as np\n",
        "\n",
        "# Get feature importance from Random Forest model\n",
        "feature_importance = rf_model_tuned.feature_importances_\n",
        "\n",
        "# Sort features by importance\n",
        "sorted_idx = np.argsort(feature_importance)[::-1]\n",
        "sorted_features = [X.columns[i] for i in sorted_idx]\n",
        "\n",
        "# Plot feature importance\n",
        "plt.figure(figsize=(10, 5))\n",
        "plt.barh(sorted_features, feature_importance[sorted_idx], color=\"teal\")\n",
        "plt.xlabel(\"Feature Importance Score\")\n",
        "plt.ylabel(\"Features\")\n",
        "plt.title(\"Feature Importance in Random Forest Model\")\n",
        "plt.gca().invert_yaxis()\n",
        "plt.show()"
      ],
      "metadata": {
        "id": "tb5WjGjHSZio",
        "outputId": "00d6c07d-bf27-4897-e28a-92eefc09e5de",
        "colab": {
          "base_uri": "https://localhost:8080/",
          "height": 487
        }
      },
      "execution_count": 18,
      "outputs": [
        {
          "output_type": "display_data",
          "data": {
            "text/plain": [
              "<Figure size 1000x500 with 1 Axes>"
            ],
            "image/png": "[encoded data removed]"
          },
          "metadata": {}
        }
      ]
    },
    {
      "cell_type": "code",
      "source": [
        "# Print final accuracy scores\n",
        "print(f\"Final Logistic Regression Accuracy: {accuracy:.4f}\")\n",
        "print(f\"Final Random Forest Accuracy: {rf_tuned_accuracy:.4f}\")"
      ],
      "metadata": {
        "id": "yzv7RxsbS5Xg",
        "outputId": "a2e87661-8b43-427a-8b4b-bd2ccd6c828c",
        "colab": {
          "base_uri": "https://localhost:8080/"
        }
      },
      "execution_count": 19,
      "outputs": [
        {
          "output_type": "stream",
          "name": "stdout",
          "text": [
            "Final Logistic Regression Accuracy: 0.9435\n",
            "Final Random Forest Accuracy: 0.8280\n"
          ]
        }
      ]
    }
  ]
}